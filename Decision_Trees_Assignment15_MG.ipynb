{
  "nbformat": 4,
  "nbformat_minor": 0,
  "metadata": {
    "colab": {
      "provenance": []
    },
    "kernelspec": {
      "name": "python3",
      "display_name": "Python 3"
    },
    "language_info": {
      "name": "python"
    }
  },
  "cells": [
    {
      "cell_type": "code",
      "metadata": {
        "id": "eqp7Q6rWnX20"
      },
      "source": [
        "Dataset - #Social_Network_Ads.csv"
      ],
      "execution_count": null,
      "outputs": []
    },
    {
      "cell_type": "markdown",
      "metadata": {
        "id": "1jSlqZcZnmrD"
      },
      "source": [
        "**Importing the libraries**"
      ]
    },
    {
      "cell_type": "code",
      "metadata": {
        "id": "ACJTKMfInp-E"
      },
      "source": [
        "import pandas as pd\n",
        "import numpy as np\n",
        "import seaborn as sns\n",
        "import graphviz as gp\n",
        "from sklearn.preprocessing import MinMaxScaler , LabelEncoder\n",
        "from sklearn.tree import DecisionTreeClassifier\n",
        "from sklearn import tree\n",
        "from sklearn.model_selection import train_test_split\n",
        "from sklearn.metrics import confusion_matrix,classification_report ,ConfusionMatrixDisplay\n"
      ],
      "execution_count": null,
      "outputs": []
    },
    {
      "cell_type": "code",
      "source": [
        "from google.colab import drive\n",
        "drive.mount('/content/drive')"
      ],
      "metadata": {
        "colab": {
          "base_uri": "https://localhost:8080/"
        },
        "id": "bRWMngzFuf2m",
        "outputId": "1bb89a78-87cb-4de5-b77a-27e5971e7928"
      },
      "execution_count": null,
      "outputs": [
        {
          "output_type": "stream",
          "name": "stdout",
          "text": [
            "Mounted at /content/drive\n"
          ]
        }
      ]
    },
    {
      "cell_type": "markdown",
      "metadata": {
        "id": "fRZkaj-dnxIj"
      },
      "source": [
        "**Importing the dataset**"
      ]
    },
    {
      "cell_type": "code",
      "metadata": {
        "id": "SfTR4mVDnqBV"
      },
      "source": [
        "df=pd.read_csv('/content/drive/MyDrive/Guvi_collab/Social_Network_Ads.csv')"
      ],
      "execution_count": null,
      "outputs": []
    },
    {
      "cell_type": "markdown",
      "metadata": {
        "id": "9Thl3lvkn9Kr"
      },
      "source": [
        "**Feature Scaling**\n",
        "\n"
      ]
    },
    {
      "cell_type": "code",
      "source": [
        "#Encode the variable Gender in order to fit that into data\n",
        "lc=LabelEncoder()\n",
        "df['Gender']=lc.fit_transform(df[['Gender']])"
      ],
      "metadata": {
        "colab": {
          "base_uri": "https://localhost:8080/"
        },
        "id": "jvMlEz6mu40l",
        "outputId": "1e8059df-1cc1-4e2e-e860-26ed65725a08"
      },
      "execution_count": null,
      "outputs": [
        {
          "output_type": "stream",
          "name": "stderr",
          "text": [
            "/usr/local/lib/python3.8/dist-packages/sklearn/preprocessing/_label.py:115: DataConversionWarning: A column-vector y was passed when a 1d array was expected. Please change the shape of y to (n_samples, ), for example using ravel().\n",
            "  y = column_or_1d(y, warn=True)\n"
          ]
        }
      ]
    },
    {
      "cell_type": "code",
      "metadata": {
        "id": "sp359H4XnqD3"
      },
      "source": [
        "#will scale the salary column using standard scaler, according to the range equivalent to AGE .\n",
        "MMS=MinMaxScaler(feature_range=(1,100))\n",
        "df['EstimatedSalary']=MMS.fit_transform(df[['EstimatedSalary']])"
      ],
      "execution_count": null,
      "outputs": []
    },
    {
      "cell_type": "markdown",
      "metadata": {
        "id": "XNNxUncRoG6K"
      },
      "source": [
        "**Splitting the dataset into the Training set and Test set**"
      ]
    },
    {
      "cell_type": "code",
      "source": [
        "x=df.drop(['User ID','Purchased'],axis=1) #since the requirement here is to build a model with independant variables as salary, AGE and GENDER\n",
        "y=df['Purchased']"
      ],
      "metadata": {
        "id": "zqmfkOdUvcj2"
      },
      "execution_count": null,
      "outputs": []
    },
    {
      "cell_type": "code",
      "metadata": {
        "id": "loYjT47TnqIG"
      },
      "source": [
        "x_train,x_test,y_train,y_test = train_test_split(x,y,test_size=0.30) "
      ],
      "execution_count": null,
      "outputs": []
    },
    {
      "cell_type": "markdown",
      "metadata": {
        "id": "_VB4b09roPhq"
      },
      "source": [
        "**Fitting Decision Tree Classification to the Training set**"
      ]
    },
    {
      "cell_type": "code",
      "metadata": {
        "id": "0UxhDc2lnqKu",
        "colab": {
          "base_uri": "https://localhost:8080/"
        },
        "outputId": "9856ec2d-5e77-4cca-8887-6297a440561a"
      },
      "source": [
        "dtc=DecisionTreeClassifier(criterion='entropy',max_depth=6,min_samples_split=2,max_leaf_nodes=10)\n",
        "dtc.fit(x_train,y_train)"
      ],
      "execution_count": null,
      "outputs": [
        {
          "output_type": "execute_result",
          "data": {
            "text/plain": [
              "DecisionTreeClassifier(criterion='entropy', max_depth=6, max_leaf_nodes=10)"
            ]
          },
          "metadata": {},
          "execution_count": 43
        }
      ]
    },
    {
      "cell_type": "markdown",
      "metadata": {
        "id": "XOl6_ERWoYh2"
      },
      "source": [
        "**Predicting the Test set results**"
      ]
    },
    {
      "cell_type": "code",
      "metadata": {
        "id": "7xFCuAXjnqPN"
      },
      "source": [
        "predicted_ytest=dtc.predict(x_test)\n",
        "predicted_ytrain=dtc.predict(x_train) # predicting for training dataset too. To compare the fit between the test and training\n"
      ],
      "execution_count": null,
      "outputs": []
    },
    {
      "cell_type": "markdown",
      "metadata": {
        "id": "pqaQ_HTZogaZ"
      },
      "source": [
        "**Making the Confusion Matrix**"
      ]
    },
    {
      "cell_type": "code",
      "metadata": {
        "id": "DdqNOMK8nqSs",
        "colab": {
          "base_uri": "https://localhost:8080/"
        },
        "outputId": "0ec14222-fdcd-4267-a4a0-e75ab766a6e9"
      },
      "source": [
        "#confusion matrix for test dataset\n",
        "CM=confusion_matrix(y_test,predicted_ytest)\n",
        "print(CM)"
      ],
      "execution_count": null,
      "outputs": [
        {
          "output_type": "stream",
          "name": "stdout",
          "text": [
            "[[72  7]\n",
            " [ 3 38]]\n"
          ]
        }
      ]
    },
    {
      "cell_type": "markdown",
      "source": [
        "confusion matrix results for test \n",
        "*   TRUE POS =  72\n",
        "*   FALSE POS = 3\n",
        "*   FALSE NEG = 7\n",
        "*   TRUE NEG  = 38\n",
        "\n"
      ],
      "metadata": {
        "id": "l79ejEbZ74y3"
      }
    },
    {
      "cell_type": "code",
      "source": [
        "#confusion matrix for training dataset\n",
        "CM_train=confusion_matrix(y_train,predicted_ytrain)\n",
        "print(CM_train)"
      ],
      "metadata": {
        "colab": {
          "base_uri": "https://localhost:8080/"
        },
        "id": "Fb16enY575Jk",
        "outputId": "a253988f-618c-48dc-9edb-bf26454af8a6"
      },
      "execution_count": null,
      "outputs": [
        {
          "output_type": "stream",
          "name": "stdout",
          "text": [
            "[[165  13]\n",
            " [  9  93]]\n"
          ]
        }
      ]
    },
    {
      "cell_type": "markdown",
      "source": [
        "confusion matrix results for train \n",
        "*   TRUE POS =  165\n",
        "*   FALSE POS = 9\n",
        "*   FALSE NEG = 13\n",
        "*   TRUE NEG  = 93\n",
        "\n"
      ],
      "metadata": {
        "id": "0iQwairh75ph"
      }
    },
    {
      "cell_type": "code",
      "source": [
        "print(classification_report(y_test,predicted_ytest))"
      ],
      "metadata": {
        "colab": {
          "base_uri": "https://localhost:8080/"
        },
        "id": "PGzLkz7u8M-v",
        "outputId": "2c990f8c-a00d-40fa-b805-76adb870274b"
      },
      "execution_count": null,
      "outputs": [
        {
          "output_type": "stream",
          "name": "stdout",
          "text": [
            "              precision    recall  f1-score   support\n",
            "\n",
            "           0       0.96      0.91      0.94        79\n",
            "           1       0.84      0.93      0.88        41\n",
            "\n",
            "    accuracy                           0.92       120\n",
            "   macro avg       0.90      0.92      0.91       120\n",
            "weighted avg       0.92      0.92      0.92       120\n",
            "\n"
          ]
        }
      ]
    },
    {
      "cell_type": "code",
      "source": [
        "print(classification_report(y_train,predicted_ytrain))"
      ],
      "metadata": {
        "colab": {
          "base_uri": "https://localhost:8080/"
        },
        "id": "93eEpqVw8Mrl",
        "outputId": "99963098-fe12-4e8b-af6b-de7cce68c821"
      },
      "execution_count": null,
      "outputs": [
        {
          "output_type": "stream",
          "name": "stdout",
          "text": [
            "              precision    recall  f1-score   support\n",
            "\n",
            "           0       0.95      0.93      0.94       178\n",
            "           1       0.88      0.91      0.89       102\n",
            "\n",
            "    accuracy                           0.92       280\n",
            "   macro avg       0.91      0.92      0.92       280\n",
            "weighted avg       0.92      0.92      0.92       280\n",
            "\n"
          ]
        }
      ]
    },
    {
      "cell_type": "markdown",
      "metadata": {
        "id": "Ko5EDqqiopBl"
      },
      "source": [
        "**Visualising the Training set results**"
      ]
    },
    {
      "cell_type": "code",
      "source": [
        "data=tree.export_graphviz(dtc,filled=True)\n",
        "graph = gp.Source(data, format=\"png\") \n",
        "graph\n",
        "#graph.render(\"decision_tree_graphivz\")\n",
        "#'decision_tree_graphivz.png'"
      ],
      "metadata": {
        "colab": {
          "base_uri": "https://localhost:8080/",
          "height": 796
        },
        "id": "V7w9FfrNI5dW",
        "outputId": "a40ff58d-d2a3-4cd4-b7f3-16959d70954f"
      },
      "execution_count": null,
      "outputs": [
        {
          "output_type": "execute_result",
          "data": {
            "text/plain": [
              "<graphviz.files.Source at 0x7f78d520b430>"
            ],
            "image/svg+xml": "<?xml version=\"1.0\" encoding=\"UTF-8\" standalone=\"no\"?>\n<!DOCTYPE svg PUBLIC \"-//W3C//DTD SVG 1.1//EN\"\n \"http://www.w3.org/Graphics/SVG/1.1/DTD/svg11.dtd\">\n<!-- Generated by graphviz version 2.43.0 (0)\n -->\n<!-- Title: Tree Pages: 1 -->\n<svg width=\"761pt\" height=\"581pt\"\n viewBox=\"0.00 0.00 760.50 581.00\" xmlns=\"http://www.w3.org/2000/svg\" xmlns:xlink=\"http://www.w3.org/1999/xlink\">\n<g id=\"graph0\" class=\"graph\" transform=\"scale(1 1) rotate(0) translate(4 577)\">\n<title>Tree</title>\n<polygon fill=\"white\" stroke=\"transparent\" points=\"-4,4 -4,-577 756.5,-577 756.5,4 -4,4\"/>\n<!-- 0 -->\n<g id=\"node1\" class=\"node\">\n<title>0</title>\n<polygon fill=\"#f4c9aa\" stroke=\"black\" points=\"440.5,-573 315.5,-573 315.5,-505 440.5,-505 440.5,-573\"/>\n<text text-anchor=\"middle\" x=\"378\" y=\"-557.8\" font-family=\"Helvetica,sans-Serif\" font-size=\"14.00\">X[1] &lt;= 42.5</text>\n<text text-anchor=\"middle\" x=\"378\" y=\"-542.8\" font-family=\"Helvetica,sans-Serif\" font-size=\"14.00\">entropy = 0.946</text>\n<text text-anchor=\"middle\" x=\"378\" y=\"-527.8\" font-family=\"Helvetica,sans-Serif\" font-size=\"14.00\">samples = 280</text>\n<text text-anchor=\"middle\" x=\"378\" y=\"-512.8\" font-family=\"Helvetica,sans-Serif\" font-size=\"14.00\">value = [178, 102]</text>\n</g>\n<!-- 1 -->\n<g id=\"node2\" class=\"node\">\n<title>1</title>\n<polygon fill=\"#ea995e\" stroke=\"black\" points=\"370.5,-469 253.5,-469 253.5,-401 370.5,-401 370.5,-469\"/>\n<text text-anchor=\"middle\" x=\"312\" y=\"-453.8\" font-family=\"Helvetica,sans-Serif\" font-size=\"14.00\">X[2] &lt;= 55.633</text>\n<text text-anchor=\"middle\" x=\"312\" y=\"-438.8\" font-family=\"Helvetica,sans-Serif\" font-size=\"14.00\">entropy = 0.63</text>\n<text text-anchor=\"middle\" x=\"312\" y=\"-423.8\" font-family=\"Helvetica,sans-Serif\" font-size=\"14.00\">samples = 196</text>\n<text text-anchor=\"middle\" x=\"312\" y=\"-408.8\" font-family=\"Helvetica,sans-Serif\" font-size=\"14.00\">value = [165, 31]</text>\n</g>\n<!-- 0&#45;&gt;1 -->\n<g id=\"edge1\" class=\"edge\">\n<title>0&#45;&gt;1</title>\n<path fill=\"none\" stroke=\"black\" d=\"M356.57,-504.88C350.98,-496.24 344.88,-486.82 339.04,-477.79\"/>\n<polygon fill=\"black\" stroke=\"black\" points=\"341.92,-475.79 333.55,-469.3 336.04,-479.6 341.92,-475.79\"/>\n<text text-anchor=\"middle\" x=\"328.31\" y=\"-490.04\" font-family=\"Helvetica,sans-Serif\" font-size=\"14.00\">True</text>\n</g>\n<!-- 2 -->\n<g id=\"node15\" class=\"node\">\n<title>2</title>\n<polygon fill=\"#5dafea\" stroke=\"black\" points=\"499.5,-469 388.5,-469 388.5,-401 499.5,-401 499.5,-469\"/>\n<text text-anchor=\"middle\" x=\"444\" y=\"-453.8\" font-family=\"Helvetica,sans-Serif\" font-size=\"14.00\">X[2] &lt;= 20.433</text>\n<text text-anchor=\"middle\" x=\"444\" y=\"-438.8\" font-family=\"Helvetica,sans-Serif\" font-size=\"14.00\">entropy = 0.622</text>\n<text text-anchor=\"middle\" x=\"444\" y=\"-423.8\" font-family=\"Helvetica,sans-Serif\" font-size=\"14.00\">samples = 84</text>\n<text text-anchor=\"middle\" x=\"444\" y=\"-408.8\" font-family=\"Helvetica,sans-Serif\" font-size=\"14.00\">value = [13, 71]</text>\n</g>\n<!-- 0&#45;&gt;2 -->\n<g id=\"edge14\" class=\"edge\">\n<title>0&#45;&gt;2</title>\n<path fill=\"none\" stroke=\"black\" d=\"M399.43,-504.88C405.02,-496.24 411.12,-486.82 416.96,-477.79\"/>\n<polygon fill=\"black\" stroke=\"black\" points=\"419.96,-479.6 422.45,-469.3 414.08,-475.79 419.96,-479.6\"/>\n<text text-anchor=\"middle\" x=\"427.69\" y=\"-490.04\" font-family=\"Helvetica,sans-Serif\" font-size=\"14.00\">False</text>\n</g>\n<!-- 3 -->\n<g id=\"node3\" class=\"node\">\n<title>3</title>\n<polygon fill=\"#e68641\" stroke=\"black\" points=\"239.5,-365 128.5,-365 128.5,-297 239.5,-297 239.5,-365\"/>\n<text text-anchor=\"middle\" x=\"184\" y=\"-349.8\" font-family=\"Helvetica,sans-Serif\" font-size=\"14.00\">X[1] &lt;= 36.5</text>\n<text text-anchor=\"middle\" x=\"184\" y=\"-334.8\" font-family=\"Helvetica,sans-Serif\" font-size=\"14.00\">entropy = 0.226</text>\n<text text-anchor=\"middle\" x=\"184\" y=\"-319.8\" font-family=\"Helvetica,sans-Serif\" font-size=\"14.00\">samples = 164</text>\n<text text-anchor=\"middle\" x=\"184\" y=\"-304.8\" font-family=\"Helvetica,sans-Serif\" font-size=\"14.00\">value = [158, 6]</text>\n</g>\n<!-- 1&#45;&gt;3 -->\n<g id=\"edge2\" class=\"edge\">\n<title>1&#45;&gt;3</title>\n<path fill=\"none\" stroke=\"black\" d=\"M270.44,-400.88C258.71,-391.53 245.82,-381.26 233.65,-371.57\"/>\n<polygon fill=\"black\" stroke=\"black\" points=\"235.79,-368.79 225.79,-365.3 231.43,-374.27 235.79,-368.79\"/>\n</g>\n<!-- 4 -->\n<g id=\"node8\" class=\"node\">\n<title>4</title>\n<polygon fill=\"#70b8ec\" stroke=\"black\" points=\"368.5,-365 257.5,-365 257.5,-297 368.5,-297 368.5,-365\"/>\n<text text-anchor=\"middle\" x=\"313\" y=\"-349.8\" font-family=\"Helvetica,sans-Serif\" font-size=\"14.00\">X[2] &lt;= 76.167</text>\n<text text-anchor=\"middle\" x=\"313\" y=\"-334.8\" font-family=\"Helvetica,sans-Serif\" font-size=\"14.00\">entropy = 0.758</text>\n<text text-anchor=\"middle\" x=\"313\" y=\"-319.8\" font-family=\"Helvetica,sans-Serif\" font-size=\"14.00\">samples = 32</text>\n<text text-anchor=\"middle\" x=\"313\" y=\"-304.8\" font-family=\"Helvetica,sans-Serif\" font-size=\"14.00\">value = [7, 25]</text>\n</g>\n<!-- 1&#45;&gt;4 -->\n<g id=\"edge7\" class=\"edge\">\n<title>1&#45;&gt;4</title>\n<path fill=\"none\" stroke=\"black\" d=\"M312.32,-400.88C312.4,-392.78 312.49,-383.98 312.57,-375.47\"/>\n<polygon fill=\"black\" stroke=\"black\" points=\"316.08,-375.33 312.67,-365.3 309.08,-375.26 316.08,-375.33\"/>\n</g>\n<!-- 5 -->\n<g id=\"node4\" class=\"node\">\n<title>5</title>\n<polygon fill=\"#e58139\" stroke=\"black\" points=\"110,-253.5 0,-253.5 0,-200.5 110,-200.5 110,-253.5\"/>\n<text text-anchor=\"middle\" x=\"55\" y=\"-238.3\" font-family=\"Helvetica,sans-Serif\" font-size=\"14.00\">entropy = 0.0</text>\n<text text-anchor=\"middle\" x=\"55\" y=\"-223.3\" font-family=\"Helvetica,sans-Serif\" font-size=\"14.00\">samples = 107</text>\n<text text-anchor=\"middle\" x=\"55\" y=\"-208.3\" font-family=\"Helvetica,sans-Serif\" font-size=\"14.00\">value = [107, 0]</text>\n</g>\n<!-- 3&#45;&gt;5 -->\n<g id=\"edge3\" class=\"edge\">\n<title>3&#45;&gt;5</title>\n<path fill=\"none\" stroke=\"black\" d=\"M142.12,-296.88C127.1,-285.01 110.2,-271.65 95.31,-259.88\"/>\n<polygon fill=\"black\" stroke=\"black\" points=\"97.29,-256.98 87.28,-253.52 92.95,-262.47 97.29,-256.98\"/>\n</g>\n<!-- 6 -->\n<g id=\"node5\" class=\"node\">\n<title>6</title>\n<polygon fill=\"#e89050\" stroke=\"black\" points=\"239.5,-261 128.5,-261 128.5,-193 239.5,-193 239.5,-261\"/>\n<text text-anchor=\"middle\" x=\"184\" y=\"-245.8\" font-family=\"Helvetica,sans-Serif\" font-size=\"14.00\">X[2] &lt;= 39.5</text>\n<text text-anchor=\"middle\" x=\"184\" y=\"-230.8\" font-family=\"Helvetica,sans-Serif\" font-size=\"14.00\">entropy = 0.485</text>\n<text text-anchor=\"middle\" x=\"184\" y=\"-215.8\" font-family=\"Helvetica,sans-Serif\" font-size=\"14.00\">samples = 57</text>\n<text text-anchor=\"middle\" x=\"184\" y=\"-200.8\" font-family=\"Helvetica,sans-Serif\" font-size=\"14.00\">value = [51, 6]</text>\n</g>\n<!-- 3&#45;&gt;6 -->\n<g id=\"edge4\" class=\"edge\">\n<title>3&#45;&gt;6</title>\n<path fill=\"none\" stroke=\"black\" d=\"M184,-296.88C184,-288.78 184,-279.98 184,-271.47\"/>\n<polygon fill=\"black\" stroke=\"black\" points=\"187.5,-271.3 184,-261.3 180.5,-271.3 187.5,-271.3\"/>\n</g>\n<!-- 9 -->\n<g id=\"node6\" class=\"node\">\n<title>9</title>\n<polygon fill=\"#e58139\" stroke=\"black\" points=\"110,-149.5 8,-149.5 8,-96.5 110,-96.5 110,-149.5\"/>\n<text text-anchor=\"middle\" x=\"59\" y=\"-134.3\" font-family=\"Helvetica,sans-Serif\" font-size=\"14.00\">entropy = 0.0</text>\n<text text-anchor=\"middle\" x=\"59\" y=\"-119.3\" font-family=\"Helvetica,sans-Serif\" font-size=\"14.00\">samples = 27</text>\n<text text-anchor=\"middle\" x=\"59\" y=\"-104.3\" font-family=\"Helvetica,sans-Serif\" font-size=\"14.00\">value = [27, 0]</text>\n</g>\n<!-- 6&#45;&gt;9 -->\n<g id=\"edge5\" class=\"edge\">\n<title>6&#45;&gt;9</title>\n<path fill=\"none\" stroke=\"black\" d=\"M143.42,-192.88C128.86,-181.01 112.49,-167.65 98.06,-155.88\"/>\n<polygon fill=\"black\" stroke=\"black\" points=\"100.24,-153.13 90.27,-149.52 95.81,-158.55 100.24,-153.13\"/>\n</g>\n<!-- 10 -->\n<g id=\"node7\" class=\"node\">\n<title>10</title>\n<polygon fill=\"#eca06a\" stroke=\"black\" points=\"239.5,-149.5 128.5,-149.5 128.5,-96.5 239.5,-96.5 239.5,-149.5\"/>\n<text text-anchor=\"middle\" x=\"184\" y=\"-134.3\" font-family=\"Helvetica,sans-Serif\" font-size=\"14.00\">entropy = 0.722</text>\n<text text-anchor=\"middle\" x=\"184\" y=\"-119.3\" font-family=\"Helvetica,sans-Serif\" font-size=\"14.00\">samples = 30</text>\n<text text-anchor=\"middle\" x=\"184\" y=\"-104.3\" font-family=\"Helvetica,sans-Serif\" font-size=\"14.00\">value = [24, 6]</text>\n</g>\n<!-- 6&#45;&gt;10 -->\n<g id=\"edge6\" class=\"edge\">\n<title>6&#45;&gt;10</title>\n<path fill=\"none\" stroke=\"black\" d=\"M184,-192.88C184,-182.33 184,-170.6 184,-159.85\"/>\n<polygon fill=\"black\" stroke=\"black\" points=\"187.5,-159.52 184,-149.52 180.5,-159.52 187.5,-159.52\"/>\n</g>\n<!-- 7 -->\n<g id=\"node9\" class=\"node\">\n<title>7</title>\n<polygon fill=\"#c4e2f7\" stroke=\"black\" points=\"368.5,-261 257.5,-261 257.5,-193 368.5,-193 368.5,-261\"/>\n<text text-anchor=\"middle\" x=\"313\" y=\"-245.8\" font-family=\"Helvetica,sans-Serif\" font-size=\"14.00\">X[2] &lt;= 68.833</text>\n<text text-anchor=\"middle\" x=\"313\" y=\"-230.8\" font-family=\"Helvetica,sans-Serif\" font-size=\"14.00\">entropy = 0.977</text>\n<text text-anchor=\"middle\" x=\"313\" y=\"-215.8\" font-family=\"Helvetica,sans-Serif\" font-size=\"14.00\">samples = 17</text>\n<text text-anchor=\"middle\" x=\"313\" y=\"-200.8\" font-family=\"Helvetica,sans-Serif\" font-size=\"14.00\">value = [7, 10]</text>\n</g>\n<!-- 4&#45;&gt;7 -->\n<g id=\"edge8\" class=\"edge\">\n<title>4&#45;&gt;7</title>\n<path fill=\"none\" stroke=\"black\" d=\"M313,-296.88C313,-288.78 313,-279.98 313,-271.47\"/>\n<polygon fill=\"black\" stroke=\"black\" points=\"316.5,-271.3 313,-261.3 309.5,-271.3 316.5,-271.3\"/>\n</g>\n<!-- 8 -->\n<g id=\"node14\" class=\"node\">\n<title>8</title>\n<polygon fill=\"#399de5\" stroke=\"black\" points=\"489,-253.5 387,-253.5 387,-200.5 489,-200.5 489,-253.5\"/>\n<text text-anchor=\"middle\" x=\"438\" y=\"-238.3\" font-family=\"Helvetica,sans-Serif\" font-size=\"14.00\">entropy = 0.0</text>\n<text text-anchor=\"middle\" x=\"438\" y=\"-223.3\" font-family=\"Helvetica,sans-Serif\" font-size=\"14.00\">samples = 15</text>\n<text text-anchor=\"middle\" x=\"438\" y=\"-208.3\" font-family=\"Helvetica,sans-Serif\" font-size=\"14.00\">value = [0, 15]</text>\n</g>\n<!-- 4&#45;&gt;8 -->\n<g id=\"edge13\" class=\"edge\">\n<title>4&#45;&gt;8</title>\n<path fill=\"none\" stroke=\"black\" d=\"M353.58,-296.88C368.14,-285.01 384.51,-271.65 398.94,-259.88\"/>\n<polygon fill=\"black\" stroke=\"black\" points=\"401.19,-262.55 406.73,-253.52 396.76,-257.13 401.19,-262.55\"/>\n</g>\n<!-- 11 -->\n<g id=\"node10\" class=\"node\">\n<title>11</title>\n<polygon fill=\"#55abe9\" stroke=\"black\" points=\"368.5,-157 257.5,-157 257.5,-89 368.5,-89 368.5,-157\"/>\n<text text-anchor=\"middle\" x=\"313\" y=\"-141.8\" font-family=\"Helvetica,sans-Serif\" font-size=\"14.00\">X[1] &lt;= 26.0</text>\n<text text-anchor=\"middle\" x=\"313\" y=\"-126.8\" font-family=\"Helvetica,sans-Serif\" font-size=\"14.00\">entropy = 0.544</text>\n<text text-anchor=\"middle\" x=\"313\" y=\"-111.8\" font-family=\"Helvetica,sans-Serif\" font-size=\"14.00\">samples = 8</text>\n<text text-anchor=\"middle\" x=\"313\" y=\"-96.8\" font-family=\"Helvetica,sans-Serif\" font-size=\"14.00\">value = [1, 7]</text>\n</g>\n<!-- 7&#45;&gt;11 -->\n<g id=\"edge9\" class=\"edge\">\n<title>7&#45;&gt;11</title>\n<path fill=\"none\" stroke=\"black\" d=\"M313,-192.88C313,-184.78 313,-175.98 313,-167.47\"/>\n<polygon fill=\"black\" stroke=\"black\" points=\"316.5,-167.3 313,-157.3 309.5,-167.3 316.5,-167.3\"/>\n</g>\n<!-- 12 -->\n<g id=\"node13\" class=\"node\">\n<title>12</title>\n<polygon fill=\"#f2c09c\" stroke=\"black\" points=\"497.5,-149.5 386.5,-149.5 386.5,-96.5 497.5,-96.5 497.5,-149.5\"/>\n<text text-anchor=\"middle\" x=\"442\" y=\"-134.3\" font-family=\"Helvetica,sans-Serif\" font-size=\"14.00\">entropy = 0.918</text>\n<text text-anchor=\"middle\" x=\"442\" y=\"-119.3\" font-family=\"Helvetica,sans-Serif\" font-size=\"14.00\">samples = 9</text>\n<text text-anchor=\"middle\" x=\"442\" y=\"-104.3\" font-family=\"Helvetica,sans-Serif\" font-size=\"14.00\">value = [6, 3]</text>\n</g>\n<!-- 7&#45;&gt;12 -->\n<g id=\"edge12\" class=\"edge\">\n<title>7&#45;&gt;12</title>\n<path fill=\"none\" stroke=\"black\" d=\"M354.88,-192.88C369.9,-181.01 386.8,-167.65 401.69,-155.88\"/>\n<polygon fill=\"black\" stroke=\"black\" points=\"404.05,-158.47 409.72,-149.52 399.71,-152.98 404.05,-158.47\"/>\n</g>\n<!-- 13 -->\n<g id=\"node11\" class=\"node\">\n<title>13</title>\n<polygon fill=\"#e58139\" stroke=\"black\" points=\"304,-53 208,-53 208,0 304,0 304,-53\"/>\n<text text-anchor=\"middle\" x=\"256\" y=\"-37.8\" font-family=\"Helvetica,sans-Serif\" font-size=\"14.00\">entropy = 0.0</text>\n<text text-anchor=\"middle\" x=\"256\" y=\"-22.8\" font-family=\"Helvetica,sans-Serif\" font-size=\"14.00\">samples = 1</text>\n<text text-anchor=\"middle\" x=\"256\" y=\"-7.8\" font-family=\"Helvetica,sans-Serif\" font-size=\"14.00\">value = [1, 0]</text>\n</g>\n<!-- 11&#45;&gt;13 -->\n<g id=\"edge10\" class=\"edge\">\n<title>11&#45;&gt;13</title>\n<path fill=\"none\" stroke=\"black\" d=\"M293.06,-88.95C287.77,-80.17 282.03,-70.66 276.7,-61.82\"/>\n<polygon fill=\"black\" stroke=\"black\" points=\"279.69,-59.99 271.52,-53.24 273.69,-63.61 279.69,-59.99\"/>\n</g>\n<!-- 14 -->\n<g id=\"node12\" class=\"node\">\n<title>14</title>\n<polygon fill=\"#399de5\" stroke=\"black\" points=\"418,-53 322,-53 322,0 418,0 418,-53\"/>\n<text text-anchor=\"middle\" x=\"370\" y=\"-37.8\" font-family=\"Helvetica,sans-Serif\" font-size=\"14.00\">entropy = 0.0</text>\n<text text-anchor=\"middle\" x=\"370\" y=\"-22.8\" font-family=\"Helvetica,sans-Serif\" font-size=\"14.00\">samples = 7</text>\n<text text-anchor=\"middle\" x=\"370\" y=\"-7.8\" font-family=\"Helvetica,sans-Serif\" font-size=\"14.00\">value = [0, 7]</text>\n</g>\n<!-- 11&#45;&gt;14 -->\n<g id=\"edge11\" class=\"edge\">\n<title>11&#45;&gt;14</title>\n<path fill=\"none\" stroke=\"black\" d=\"M332.94,-88.95C338.23,-80.17 343.97,-70.66 349.3,-61.82\"/>\n<polygon fill=\"black\" stroke=\"black\" points=\"352.31,-63.61 354.48,-53.24 346.31,-59.99 352.31,-63.61\"/>\n</g>\n<!-- 15 -->\n<g id=\"node16\" class=\"node\">\n<title>15</title>\n<polygon fill=\"#41a1e6\" stroke=\"black\" points=\"498.5,-357.5 387.5,-357.5 387.5,-304.5 498.5,-304.5 498.5,-357.5\"/>\n<text text-anchor=\"middle\" x=\"443\" y=\"-342.3\" font-family=\"Helvetica,sans-Serif\" font-size=\"14.00\">entropy = 0.235</text>\n<text text-anchor=\"middle\" x=\"443\" y=\"-327.3\" font-family=\"Helvetica,sans-Serif\" font-size=\"14.00\">samples = 26</text>\n<text text-anchor=\"middle\" x=\"443\" y=\"-312.3\" font-family=\"Helvetica,sans-Serif\" font-size=\"14.00\">value = [1, 25]</text>\n</g>\n<!-- 2&#45;&gt;15 -->\n<g id=\"edge15\" class=\"edge\">\n<title>2&#45;&gt;15</title>\n<path fill=\"none\" stroke=\"black\" d=\"M443.68,-400.88C443.57,-390.33 443.46,-378.6 443.35,-367.85\"/>\n<polygon fill=\"black\" stroke=\"black\" points=\"446.85,-367.49 443.25,-357.52 439.85,-367.55 446.85,-367.49\"/>\n</g>\n<!-- 16 -->\n<g id=\"node17\" class=\"node\">\n<title>16</title>\n<polygon fill=\"#6db7ec\" stroke=\"black\" points=\"627.5,-365 516.5,-365 516.5,-297 627.5,-297 627.5,-365\"/>\n<text text-anchor=\"middle\" x=\"572\" y=\"-349.8\" font-family=\"Helvetica,sans-Serif\" font-size=\"14.00\">X[2] &lt;= 51.967</text>\n<text text-anchor=\"middle\" x=\"572\" y=\"-334.8\" font-family=\"Helvetica,sans-Serif\" font-size=\"14.00\">entropy = 0.736</text>\n<text text-anchor=\"middle\" x=\"572\" y=\"-319.8\" font-family=\"Helvetica,sans-Serif\" font-size=\"14.00\">samples = 58</text>\n<text text-anchor=\"middle\" x=\"572\" y=\"-304.8\" font-family=\"Helvetica,sans-Serif\" font-size=\"14.00\">value = [12, 46]</text>\n</g>\n<!-- 2&#45;&gt;16 -->\n<g id=\"edge16\" class=\"edge\">\n<title>2&#45;&gt;16</title>\n<path fill=\"none\" stroke=\"black\" d=\"M485.56,-400.88C497.29,-391.53 510.18,-381.26 522.35,-371.57\"/>\n<polygon fill=\"black\" stroke=\"black\" points=\"524.57,-374.27 530.21,-365.3 520.21,-368.79 524.57,-374.27\"/>\n</g>\n<!-- 17 -->\n<g id=\"node18\" class=\"node\">\n<title>17</title>\n<polygon fill=\"#a2d1f3\" stroke=\"black\" points=\"623.5,-253.5 512.5,-253.5 512.5,-200.5 623.5,-200.5 623.5,-253.5\"/>\n<text text-anchor=\"middle\" x=\"568\" y=\"-238.3\" font-family=\"Helvetica,sans-Serif\" font-size=\"14.00\">entropy = 0.931</text>\n<text text-anchor=\"middle\" x=\"568\" y=\"-223.3\" font-family=\"Helvetica,sans-Serif\" font-size=\"14.00\">samples = 26</text>\n<text text-anchor=\"middle\" x=\"568\" y=\"-208.3\" font-family=\"Helvetica,sans-Serif\" font-size=\"14.00\">value = [9, 17]</text>\n</g>\n<!-- 16&#45;&gt;17 -->\n<g id=\"edge17\" class=\"edge\">\n<title>16&#45;&gt;17</title>\n<path fill=\"none\" stroke=\"black\" d=\"M570.7,-296.88C570.28,-286.22 569.82,-274.35 569.39,-263.52\"/>\n<polygon fill=\"black\" stroke=\"black\" points=\"572.89,-263.38 569,-253.52 565.9,-263.65 572.89,-263.38\"/>\n</g>\n<!-- 18 -->\n<g id=\"node19\" class=\"node\">\n<title>18</title>\n<polygon fill=\"#4da7e8\" stroke=\"black\" points=\"752.5,-253.5 641.5,-253.5 641.5,-200.5 752.5,-200.5 752.5,-253.5\"/>\n<text text-anchor=\"middle\" x=\"697\" y=\"-238.3\" font-family=\"Helvetica,sans-Serif\" font-size=\"14.00\">entropy = 0.449</text>\n<text text-anchor=\"middle\" x=\"697\" y=\"-223.3\" font-family=\"Helvetica,sans-Serif\" font-size=\"14.00\">samples = 32</text>\n<text text-anchor=\"middle\" x=\"697\" y=\"-208.3\" font-family=\"Helvetica,sans-Serif\" font-size=\"14.00\">value = [3, 29]</text>\n</g>\n<!-- 16&#45;&gt;18 -->\n<g id=\"edge18\" class=\"edge\">\n<title>16&#45;&gt;18</title>\n<path fill=\"none\" stroke=\"black\" d=\"M612.58,-296.88C627.14,-285.01 643.51,-271.65 657.94,-259.88\"/>\n<polygon fill=\"black\" stroke=\"black\" points=\"660.19,-262.55 665.73,-253.52 655.76,-257.13 660.19,-262.55\"/>\n</g>\n</g>\n</svg>\n"
          },
          "metadata": {},
          "execution_count": 52
        }
      ]
    },
    {
      "cell_type": "code",
      "source": [
        "ConfusionMatrixDisplay(CM_train).plot()"
      ],
      "metadata": {
        "colab": {
          "base_uri": "https://localhost:8080/",
          "height": 296
        },
        "id": "iAmAeBPULFbU",
        "outputId": "bc1e8a0d-176a-46ee-c9a1-b98d81168c88"
      },
      "execution_count": null,
      "outputs": [
        {
          "output_type": "execute_result",
          "data": {
            "text/plain": [
              "<sklearn.metrics._plot.confusion_matrix.ConfusionMatrixDisplay at 0x7f78d4124190>"
            ]
          },
          "metadata": {},
          "execution_count": 56
        },
        {
          "output_type": "display_data",
          "data": {
            "text/plain": [
              "<Figure size 432x288 with 2 Axes>"
            ],
            "image/png": "[encoded data removed]"
          },
          "metadata": {
            "needs_background": "light"
          }
        }
      ]
    },
    {
      "cell_type": "markdown",
      "metadata": {
        "id": "ExFSX84Hou9C"
      },
      "source": [
        "**Visualising the Test set results**"
      ]
    },
    {
      "cell_type": "code",
      "metadata": {
        "id": "zHbPz86Noj6d",
        "colab": {
          "base_uri": "https://localhost:8080/",
          "height": 296
        },
        "outputId": "78b5d948-8d7b-4669-ca58-77888f0fb0dc"
      },
      "source": [
        "ConfusionMatrixDisplay(CM).plot()"
      ],
      "execution_count": null,
      "outputs": [
        {
          "output_type": "execute_result",
          "data": {
            "text/plain": [
              "<sklearn.metrics._plot.confusion_matrix.ConfusionMatrixDisplay at 0x7f78d3f2bb50>"
            ]
          },
          "metadata": {},
          "execution_count": 57
        },
        {
          "output_type": "display_data",
          "data": {
            "text/plain": [
              "<Figure size 432x288 with 2 Axes>"
            ],
            "image/png": "[encoded data removed]"
          },
          "metadata": {
            "needs_background": "light"
          }
        }
      ]
    },
    {
      "cell_type": "code",
      "metadata": {
        "id": "Cexs-z2Lo4p0"
      },
      "source": [],
      "execution_count": null,
      "outputs": []
    },
    {
      "cell_type": "code",
      "metadata": {
        "id": "RjB1Bbi4o4tm"
      },
      "source": [],
      "execution_count": null,
      "outputs": []
    },
    {
      "cell_type": "code",
      "metadata": {
        "id": "mRqoaIx_o4xV"
      },
      "source": [],
      "execution_count": null,
      "outputs": []
    },
    {
      "cell_type": "code",
      "metadata": {
        "id": "m__02I84nqYf"
      },
      "source": [],
      "execution_count": null,
      "outputs": []
    }
  ]
}